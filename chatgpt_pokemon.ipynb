{
  "nbformat": 4,
  "nbformat_minor": 0,
  "metadata": {
    "colab": {
      "provenance": [],
      "toc_visible": true,
      "authorship_tag": "ABX9TyNilZhU3aux9I2Txw8mHwH7",
      "include_colab_link": true
    },
    "kernelspec": {
      "name": "python3",
      "display_name": "Python 3"
    },
    "language_info": {
      "name": "python"
    },
    "widgets": {
      "application/vnd.jupyter.widget-state+json": {
        "eba3817ba85c4682b9e185c91b9274a7": {
          "model_module": "@jupyter-widgets/controls",
          "model_name": "HBoxModel",
          "model_module_version": "1.5.0",
          "state": {
            "_dom_classes": [],
            "_model_module": "@jupyter-widgets/controls",
            "_model_module_version": "1.5.0",
            "_model_name": "HBoxModel",
            "_view_count": null,
            "_view_module": "@jupyter-widgets/controls",
            "_view_module_version": "1.5.0",
            "_view_name": "HBoxView",
            "box_style": "",
            "children": [
              "IPY_MODEL_9d3ba7b5c27a4586b675fa6a410061a6",
              "IPY_MODEL_38b1619c1af54fe3adae51aa73e4abf2",
              "IPY_MODEL_a41c300d43054613abb0cf5ee4f5f89f"
            ],
            "layout": "IPY_MODEL_64288b703a2f4d9cb6e212917ffd60f5"
          }
        },
        "9d3ba7b5c27a4586b675fa6a410061a6": {
          "model_module": "@jupyter-widgets/controls",
          "model_name": "HTMLModel",
          "model_module_version": "1.5.0",
          "state": {
            "_dom_classes": [],
            "_model_module": "@jupyter-widgets/controls",
            "_model_module_version": "1.5.0",
            "_model_name": "HTMLModel",
            "_view_count": null,
            "_view_module": "@jupyter-widgets/controls",
            "_view_module_version": "1.5.0",
            "_view_name": "HTMLView",
            "description": "",
            "description_tooltip": null,
            "layout": "IPY_MODEL_6c3fb3811ddd42229570900c09844532",
            "placeholder": "​",
            "style": "IPY_MODEL_5704e2dea62f489c9585f9acb5b6f697",
            "value": "100%"
          }
        },
        "38b1619c1af54fe3adae51aa73e4abf2": {
          "model_module": "@jupyter-widgets/controls",
          "model_name": "FloatProgressModel",
          "model_module_version": "1.5.0",
          "state": {
            "_dom_classes": [],
            "_model_module": "@jupyter-widgets/controls",
            "_model_module_version": "1.5.0",
            "_model_name": "FloatProgressModel",
            "_view_count": null,
            "_view_module": "@jupyter-widgets/controls",
            "_view_module_version": "1.5.0",
            "_view_name": "ProgressView",
            "bar_style": "success",
            "description": "",
            "description_tooltip": null,
            "layout": "IPY_MODEL_eb9c813e59d24d8e8f8dfcea2b9f5901",
            "max": 151,
            "min": 0,
            "orientation": "horizontal",
            "style": "IPY_MODEL_a5f1c908f9a04e49a7441ed0af9c3ff5",
            "value": 151
          }
        },
        "a41c300d43054613abb0cf5ee4f5f89f": {
          "model_module": "@jupyter-widgets/controls",
          "model_name": "HTMLModel",
          "model_module_version": "1.5.0",
          "state": {
            "_dom_classes": [],
            "_model_module": "@jupyter-widgets/controls",
            "_model_module_version": "1.5.0",
            "_model_name": "HTMLModel",
            "_view_count": null,
            "_view_module": "@jupyter-widgets/controls",
            "_view_module_version": "1.5.0",
            "_view_name": "HTMLView",
            "description": "",
            "description_tooltip": null,
            "layout": "IPY_MODEL_442c51c820084bb5a36754e5d9170fb7",
            "placeholder": "​",
            "style": "IPY_MODEL_398611510c904796bcf25a2ab60e0869",
            "value": " 151/151 [58:36&lt;00:00, 22.37s/it]"
          }
        },
        "64288b703a2f4d9cb6e212917ffd60f5": {
          "model_module": "@jupyter-widgets/base",
          "model_name": "LayoutModel",
          "model_module_version": "1.2.0",
          "state": {
            "_model_module": "@jupyter-widgets/base",
            "_model_module_version": "1.2.0",
            "_model_name": "LayoutModel",
            "_view_count": null,
            "_view_module": "@jupyter-widgets/base",
            "_view_module_version": "1.2.0",
            "_view_name": "LayoutView",
            "align_content": null,
            "align_items": null,
            "align_self": null,
            "border": null,
            "bottom": null,
            "display": null,
            "flex": null,
            "flex_flow": null,
            "grid_area": null,
            "grid_auto_columns": null,
            "grid_auto_flow": null,
            "grid_auto_rows": null,
            "grid_column": null,
            "grid_gap": null,
            "grid_row": null,
            "grid_template_areas": null,
            "grid_template_columns": null,
            "grid_template_rows": null,
            "height": null,
            "justify_content": null,
            "justify_items": null,
            "left": null,
            "margin": null,
            "max_height": null,
            "max_width": null,
            "min_height": null,
            "min_width": null,
            "object_fit": null,
            "object_position": null,
            "order": null,
            "overflow": null,
            "overflow_x": null,
            "overflow_y": null,
            "padding": null,
            "right": null,
            "top": null,
            "visibility": null,
            "width": null
          }
        },
        "6c3fb3811ddd42229570900c09844532": {
          "model_module": "@jupyter-widgets/base",
          "model_name": "LayoutModel",
          "model_module_version": "1.2.0",
          "state": {
            "_model_module": "@jupyter-widgets/base",
            "_model_module_version": "1.2.0",
            "_model_name": "LayoutModel",
            "_view_count": null,
            "_view_module": "@jupyter-widgets/base",
            "_view_module_version": "1.2.0",
            "_view_name": "LayoutView",
            "align_content": null,
            "align_items": null,
            "align_self": null,
            "border": null,
            "bottom": null,
            "display": null,
            "flex": null,
            "flex_flow": null,
            "grid_area": null,
            "grid_auto_columns": null,
            "grid_auto_flow": null,
            "grid_auto_rows": null,
            "grid_column": null,
            "grid_gap": null,
            "grid_row": null,
            "grid_template_areas": null,
            "grid_template_columns": null,
            "grid_template_rows": null,
            "height": null,
            "justify_content": null,
            "justify_items": null,
            "left": null,
            "margin": null,
            "max_height": null,
            "max_width": null,
            "min_height": null,
            "min_width": null,
            "object_fit": null,
            "object_position": null,
            "order": null,
            "overflow": null,
            "overflow_x": null,
            "overflow_y": null,
            "padding": null,
            "right": null,
            "top": null,
            "visibility": null,
            "width": null
          }
        },
        "5704e2dea62f489c9585f9acb5b6f697": {
          "model_module": "@jupyter-widgets/controls",
          "model_name": "DescriptionStyleModel",
          "model_module_version": "1.5.0",
          "state": {
            "_model_module": "@jupyter-widgets/controls",
            "_model_module_version": "1.5.0",
            "_model_name": "DescriptionStyleModel",
            "_view_count": null,
            "_view_module": "@jupyter-widgets/base",
            "_view_module_version": "1.2.0",
            "_view_name": "StyleView",
            "description_width": ""
          }
        },
        "eb9c813e59d24d8e8f8dfcea2b9f5901": {
          "model_module": "@jupyter-widgets/base",
          "model_name": "LayoutModel",
          "model_module_version": "1.2.0",
          "state": {
            "_model_module": "@jupyter-widgets/base",
            "_model_module_version": "1.2.0",
            "_model_name": "LayoutModel",
            "_view_count": null,
            "_view_module": "@jupyter-widgets/base",
            "_view_module_version": "1.2.0",
            "_view_name": "LayoutView",
            "align_content": null,
            "align_items": null,
            "align_self": null,
            "border": null,
            "bottom": null,
            "display": null,
            "flex": null,
            "flex_flow": null,
            "grid_area": null,
            "grid_auto_columns": null,
            "grid_auto_flow": null,
            "grid_auto_rows": null,
            "grid_column": null,
            "grid_gap": null,
            "grid_row": null,
            "grid_template_areas": null,
            "grid_template_columns": null,
            "grid_template_rows": null,
            "height": null,
            "justify_content": null,
            "justify_items": null,
            "left": null,
            "margin": null,
            "max_height": null,
            "max_width": null,
            "min_height": null,
            "min_width": null,
            "object_fit": null,
            "object_position": null,
            "order": null,
            "overflow": null,
            "overflow_x": null,
            "overflow_y": null,
            "padding": null,
            "right": null,
            "top": null,
            "visibility": null,
            "width": null
          }
        },
        "a5f1c908f9a04e49a7441ed0af9c3ff5": {
          "model_module": "@jupyter-widgets/controls",
          "model_name": "ProgressStyleModel",
          "model_module_version": "1.5.0",
          "state": {
            "_model_module": "@jupyter-widgets/controls",
            "_model_module_version": "1.5.0",
            "_model_name": "ProgressStyleModel",
            "_view_count": null,
            "_view_module": "@jupyter-widgets/base",
            "_view_module_version": "1.2.0",
            "_view_name": "StyleView",
            "bar_color": null,
            "description_width": ""
          }
        },
        "442c51c820084bb5a36754e5d9170fb7": {
          "model_module": "@jupyter-widgets/base",
          "model_name": "LayoutModel",
          "model_module_version": "1.2.0",
          "state": {
            "_model_module": "@jupyter-widgets/base",
            "_model_module_version": "1.2.0",
            "_model_name": "LayoutModel",
            "_view_count": null,
            "_view_module": "@jupyter-widgets/base",
            "_view_module_version": "1.2.0",
            "_view_name": "LayoutView",
            "align_content": null,
            "align_items": null,
            "align_self": null,
            "border": null,
            "bottom": null,
            "display": null,
            "flex": null,
            "flex_flow": null,
            "grid_area": null,
            "grid_auto_columns": null,
            "grid_auto_flow": null,
            "grid_auto_rows": null,
            "grid_column": null,
            "grid_gap": null,
            "grid_row": null,
            "grid_template_areas": null,
            "grid_template_columns": null,
            "grid_template_rows": null,
            "height": null,
            "justify_content": null,
            "justify_items": null,
            "left": null,
            "margin": null,
            "max_height": null,
            "max_width": null,
            "min_height": null,
            "min_width": null,
            "object_fit": null,
            "object_position": null,
            "order": null,
            "overflow": null,
            "overflow_x": null,
            "overflow_y": null,
            "padding": null,
            "right": null,
            "top": null,
            "visibility": null,
            "width": null
          }
        },
        "398611510c904796bcf25a2ab60e0869": {
          "model_module": "@jupyter-widgets/controls",
          "model_name": "DescriptionStyleModel",
          "model_module_version": "1.5.0",
          "state": {
            "_model_module": "@jupyter-widgets/controls",
            "_model_module_version": "1.5.0",
            "_model_name": "DescriptionStyleModel",
            "_view_count": null,
            "_view_module": "@jupyter-widgets/base",
            "_view_module_version": "1.2.0",
            "_view_name": "StyleView",
            "description_width": ""
          }
        }
      }
    }
  },
  "cells": [
    {
      "cell_type": "markdown",
      "metadata": {
        "id": "view-in-github",
        "colab_type": "text"
      },
      "source": [
        "<a href=\"https://colab.research.google.com/github/sentencebird/chatgpt-pokemon/blob/main/chatgpt_pokemon.ipynb\" target=\"_parent\"><img src=\"https://colab.research.google.com/assets/colab-badge.svg\" alt=\"Open In Colab\"/></a>"
      ]
    },
    {
      "cell_type": "code",
      "source": [
        "from google.colab import drive\n",
        "drive.mount('/content/gdrive')"
      ],
      "metadata": {
        "colab": {
          "base_uri": "https://localhost:8080/"
        },
        "id": "cs8rKe8JEEt9",
        "outputId": "24c1205f-da21-4163-e789-a5f749e3861d"
      },
      "execution_count": 1,
      "outputs": [
        {
          "output_type": "stream",
          "name": "stdout",
          "text": [
            "Mounted at /content/gdrive\n"
          ]
        }
      ]
    },
    {
      "cell_type": "code",
      "source": [
        "!pip install openai japanize-matplotlib --quiet"
      ],
      "metadata": {
        "colab": {
          "base_uri": "https://localhost:8080/"
        },
        "id": "O23TMqtvB235",
        "outputId": "53ac8b98-152c-4bf6-c7eb-be953e6335be"
      },
      "execution_count": 42,
      "outputs": [
        {
          "output_type": "stream",
          "name": "stdout",
          "text": [
            "\u001b[2K     \u001b[90m━━━━━━━━━━━━━━━━━━━━━━━━━━━━━━━━━━━━━━━━\u001b[0m \u001b[32m71.9/71.9 kB\u001b[0m \u001b[31m3.1 MB/s\u001b[0m eta \u001b[36m0:00:00\u001b[0m\n",
            "\u001b[2K     \u001b[90m━━━━━━━━━━━━━━━━━━━━━━━━━━━━━━━━━━━━━━━━\u001b[0m \u001b[32m4.1/4.1 MB\u001b[0m \u001b[31m40.3 MB/s\u001b[0m eta \u001b[36m0:00:00\u001b[0m\n",
            "\u001b[?25h  Preparing metadata (setup.py) ... \u001b[?25l\u001b[?25hdone\n",
            "\u001b[2K     \u001b[90m━━━━━━━━━━━━━━━━━━━━━━━━━━━━━━━━━━━━━━━━\u001b[0m \u001b[32m1.0/1.0 MB\u001b[0m \u001b[31m51.2 MB/s\u001b[0m eta \u001b[36m0:00:00\u001b[0m\n",
            "\u001b[2K     \u001b[90m━━━━━━━━━━━━━━━━━━━━━━━━━━━━━━━━━━━━━━\u001b[0m \u001b[32m114.5/114.5 kB\u001b[0m \u001b[31m11.4 MB/s\u001b[0m eta \u001b[36m0:00:00\u001b[0m\n",
            "\u001b[2K     \u001b[90m━━━━━━━━━━━━━━━━━━━━━━━━━━━━━━━━━━━━━━\u001b[0m \u001b[32m268.8/268.8 kB\u001b[0m \u001b[31m19.3 MB/s\u001b[0m eta \u001b[36m0:00:00\u001b[0m\n",
            "\u001b[2K     \u001b[90m━━━━━━━━━━━━━━━━━━━━━━━━━━━━━━━━━━━━━━━\u001b[0m \u001b[32m149.6/149.6 kB\u001b[0m \u001b[31m6.9 MB/s\u001b[0m eta \u001b[36m0:00:00\u001b[0m\n",
            "\u001b[?25h  Building wheel for japanize-matplotlib (setup.py) ... \u001b[?25l\u001b[?25hdone\n"
          ]
        }
      ]
    },
    {
      "cell_type": "code",
      "execution_count": null,
      "metadata": {
        "id": "uwIm2C4MBifY"
      },
      "outputs": [],
      "source": [
        "# https://beta.openai.com/account/api-keys\n",
        "API_KEY = "
      ]
    },
    {
      "cell_type": "code",
      "source": [
        "import openai\n",
        "\n",
        "openai.api_key = API_KEY"
      ],
      "metadata": {
        "id": "WijCDm60B7Xt"
      },
      "execution_count": null,
      "outputs": []
    },
    {
      "cell_type": "code",
      "source": [
        "from tqdm.notebook import tqdm\n",
        "import pandas as pd\n",
        "import json\n",
        "import time\n",
        "import re\n",
        "import japanize_matplotlib\n",
        "import matplotlib.pyplot as plt\n",
        "import collections"
      ],
      "metadata": {
        "id": "SaRTZiN7DLPN"
      },
      "execution_count": 43,
      "outputs": []
    },
    {
      "cell_type": "code",
      "source": [
        "pokemons = \"\"\"フシギダネ\n",
        "フシギソウ\n",
        "フシギバナ\n",
        "ヒトカゲ\n",
        "リザード\n",
        "リザードン\n",
        "ゼニガメ\n",
        "カメール\n",
        "カメックス\n",
        "キャタピー\n",
        "トランセル\n",
        "バタフリー\n",
        "ビードル\n",
        "コクーン\n",
        "スピアー\n",
        "ポッポ\n",
        "ピジョン\n",
        "ピジョット\n",
        "コラッタ\n",
        "ラッタ\n",
        "オニスズメ\n",
        "オニドリル\n",
        "アーボ\n",
        "アーボック\n",
        "ピカチュウ\n",
        "ライチュウ\n",
        "サンド\n",
        "サンドパン\n",
        "ニドラン♀\n",
        "ニドリーナ\n",
        "ニドクイン\n",
        "ニドラン♂\n",
        "ニドリーノ\n",
        "ニドキング\n",
        "ピッピ\n",
        "ピクシー\n",
        "ロコン\n",
        "キュウコン\n",
        "プリン\n",
        "プクリン\n",
        "ズバット\n",
        "ゴルバット\n",
        "ナゾノクサ\n",
        "クサイハナ\n",
        "ラフレシア\n",
        "パラス\n",
        "パラセクト\n",
        "コンパン\n",
        "モルフォン\n",
        "ディグダ\n",
        "ダグトリオ\n",
        "ニャース\n",
        "ペルシアン\n",
        "コダック\n",
        "ゴルダック\n",
        "マンキー\n",
        "オコリザル\n",
        "ガーディ\n",
        "ウインディ\n",
        "ニョロモ\n",
        "ニョロゾ\n",
        "ニョロボン\n",
        "ケーシィ\n",
        "ユンゲラー\n",
        "フーディン\n",
        "ワンリキー\n",
        "ゴーリキー\n",
        "カイリキー\n",
        "マダツボミ\n",
        "ウツドン\n",
        "ウツボット\n",
        "メノクラゲ\n",
        "ドククラゲ\n",
        "イシツブテ\n",
        "ゴローン\n",
        "ゴローニャ\n",
        "ポニータ\n",
        "ギャロップ\n",
        "ヤドン\n",
        "ヤドラン\n",
        "コイル\n",
        "レアコイル\n",
        "カモネギ\n",
        "ドードー\n",
        "ドードリオ\n",
        "パウワウ\n",
        "ジュゴン\n",
        "ベトベター\n",
        "ベトベトン\n",
        "シェルダー\n",
        "パルシェン\n",
        "ゴース\n",
        "ゴースト\n",
        "ゲンガー\n",
        "イワーク\n",
        "スリープ\n",
        "スリーパー\n",
        "クラブ\n",
        "キングラー\n",
        "ビリリダマ\n",
        "マルマイン\n",
        "タマタマ\n",
        "ナッシー\n",
        "カラカラ\n",
        "ガラガラ\n",
        "サワムラー\n",
        "エビワラー\n",
        "ベロリンガ\n",
        "ドガース\n",
        "マタドガス\n",
        "サイホーン\n",
        "サイドン\n",
        "ラッキー\n",
        "モンジャラ\n",
        "ガルーラ\n",
        "タッツー\n",
        "シードラ\n",
        "トサキント\n",
        "アズマオウ\n",
        "ヒトデマン\n",
        "スターミー\n",
        "バリヤード\n",
        "ストライク\n",
        "ルージュラ\n",
        "エレブー\n",
        "ブーバー\n",
        "カイロス\n",
        "ケンタロス\n",
        "コイキング\n",
        "ギャラドス\n",
        "ラプラス\n",
        "メタモン\n",
        "イーブイ\n",
        "シャワーズ\n",
        "サンダース\n",
        "ブースター\n",
        "ポリゴン\n",
        "オムナイト\n",
        "オムスター\n",
        "カブト\n",
        "カブトプス\n",
        "プテラ\n",
        "カビゴン\n",
        "フリーザー\n",
        "サンダー\n",
        "ファイヤー\n",
        "ミニリュウ\n",
        "ハクリュー\n",
        "カイリュー\n",
        "ミュウツー\n",
        "ミュウ\"\"\".splitlines()"
      ],
      "metadata": {
        "id": "JlHZzqMiCxW5"
      },
      "execution_count": null,
      "outputs": []
    },
    {
      "cell_type": "code",
      "source": [
        "def request_query(query):\n",
        "    return openai.ChatCompletion.create(\n",
        "    model=\"gpt-3.5-turbo\",\n",
        "    temperature=0,\n",
        "    messages=[\n",
        "            {\"role\": \"user\", \"content\": query},\n",
        "        ],\n",
        "    )"
      ],
      "metadata": {
        "id": "Hf-_YD7hIEXC"
      },
      "execution_count": null,
      "outputs": []
    },
    {
      "cell_type": "code",
      "source": [
        "responses_by_pokemon = {}\n",
        "for pokemon in tqdm(pokemons):\n",
        "    try:\n",
        "    res = request_query(f\"「{pokemon}」という生物の生態を説明してください\")\n",
        "    except:\n",
        "        time.sleep(60)\n",
        "        print(pokemon)\n",
        "        res = request_query(f\"「{pokemon}」という生物の生態を説明してください\")\n",
        "    responses_by_pokemon[pokemon] = res"
      ],
      "metadata": {
        "colab": {
          "base_uri": "https://localhost:8080/",
          "height": 101,
          "referenced_widgets": [
            "eba3817ba85c4682b9e185c91b9274a7",
            "9d3ba7b5c27a4586b675fa6a410061a6",
            "38b1619c1af54fe3adae51aa73e4abf2",
            "a41c300d43054613abb0cf5ee4f5f89f",
            "64288b703a2f4d9cb6e212917ffd60f5",
            "6c3fb3811ddd42229570900c09844532",
            "5704e2dea62f489c9585f9acb5b6f697",
            "eb9c813e59d24d8e8f8dfcea2b9f5901",
            "a5f1c908f9a04e49a7441ed0af9c3ff5",
            "442c51c820084bb5a36754e5d9170fb7",
            "398611510c904796bcf25a2ab60e0869"
          ]
        },
        "id": "TUIhqH9EDRmq",
        "outputId": "3e7346a5-6397-4f07-b1ba-e25b9254d00c"
      },
      "execution_count": null,
      "outputs": [
        {
          "data": {
            "application/vnd.jupyter.widget-view+json": {
              "model_id": "eba3817ba85c4682b9e185c91b9274a7",
              "version_major": 2,
              "version_minor": 0
            },
            "text/plain": [
              "  0%|          | 0/151 [00:00<?, ?it/s]"
            ]
          },
          "metadata": {},
          "output_type": "display_data"
        },
        {
          "output_type": "stream",
          "name": "stdout",
          "text": [
            "フシギソウ\n",
            "ヒトカゲ\n",
            "コイキング\n"
          ]
        }
      ]
    },
    {
      "cell_type": "code",
      "source": [
        "json.dump(responses_by_pokemon, open(\"gdrive/MyDrive/chatgpt-pokemon-res.json\", \"w\"))"
      ],
      "metadata": {
        "id": "7LbtwBi6Eq-u"
      },
      "execution_count": null,
      "outputs": []
    },
    {
      "cell_type": "code",
      "source": [
        "responses_by_pokemon = json.load(open(\"gdrive/MyDrive/chatgpt-pokemon-res.json\", \"r\"))\n",
        "pd.DataFrame([{\"name\": k, \"response\": v[\"choices\"][0][\"message\"][\"content\"]} for k, v in responses_by_pokemon.items()]).to_csv(\"gdrive/MyDrive/chatgpt-pokemon-name-explanations.csv\")"
      ],
      "metadata": {
        "id": "9jXmc2PmDHB8"
      },
      "execution_count": null,
      "outputs": []
    },
    {
      "cell_type": "code",
      "source": [
        "df"
      ],
      "metadata": {
        "colab": {
          "base_uri": "https://localhost:8080/",
          "height": 1497
        },
        "id": "JMFrBUBTXWbW",
        "outputId": "ab51bc23-03ef-4d7a-bebf-01d327aa0ec5"
      },
      "execution_count": null,
      "outputs": [
        {
          "output_type": "execute_result",
          "data": {
            "text/plain": [
              "     Unnamed: 0   name                                           response\n",
              "0             0  フシギダネ  フシギダネは、ポケットモンスターシリーズに登場する草タイプのポケモンです。体長は約0.7メー...\n",
              "1             1  フシギソウ  フシギソウは、日本原産の多年草で、高さは30〜60cm程度になります。茎は直立し、葉は細長く...\n",
              "2             2  フシギバナ  フシギバナは、着生植物の一種で、主に熱帯地域に生息しています。茎や葉には、空気中の水分や栄養...\n",
              "3             3   ヒトカゲ  ヒトカゲは、火を操ることができるポケモンの一種です。体長は約60cmほどで、尾の先には炎が灯...\n",
              "4             4   リザード  「リザード」という言葉は、爬虫類の一種であるトカゲを指します。トカゲは、世界中に約6,000...\n",
              "..          ...    ...                                                ...\n",
              "146         146  ミニリュウ  ミニリュウは、ポケットモンスターシリーズに登場する架空の生物です。その生態は以下の通りです。...\n",
              "147         147  ハクリュー  「ハクリュー」という生物は、日本に生息する両生類の一種です。体長は最大で約20cm程度で、体...\n",
              "148         148  カイリュー  カイリューは、ドラゴンタイプのポケモンで、四肢を持つ爬虫類のような外見をしています。彼らは、...\n",
              "149         149  ミュウツー  ミュウツーは、ポケットモンスターシリーズに登場する架空の生物です。外見は、紫色の体毛を持ち、...\n",
              "150         150    ミュウ  ミュウは、伝説上のポケモンであり、実在する生物ではありません。そのため、生態については科学的...\n",
              "\n",
              "[151 rows x 3 columns]"
            ],
            "text/html": [
              "\n",
              "  <div id=\"df-b607ee93-becd-4525-aa1a-e373294a2320\">\n",
              "    <div class=\"colab-df-container\">\n",
              "      <div>\n",
              "<style scoped>\n",
              "    .dataframe tbody tr th:only-of-type {\n",
              "        vertical-align: middle;\n",
              "    }\n",
              "\n",
              "    .dataframe tbody tr th {\n",
              "        vertical-align: top;\n",
              "    }\n",
              "\n",
              "    .dataframe thead th {\n",
              "        text-align: right;\n",
              "    }\n",
              "</style>\n",
              "<table border=\"1\" class=\"dataframe\">\n",
              "  <thead>\n",
              "    <tr style=\"text-align: right;\">\n",
              "      <th></th>\n",
              "      <th>Unnamed: 0</th>\n",
              "      <th>name</th>\n",
              "      <th>response</th>\n",
              "    </tr>\n",
              "  </thead>\n",
              "  <tbody>\n",
              "    <tr>\n",
              "      <th>0</th>\n",
              "      <td>0</td>\n",
              "      <td>フシギダネ</td>\n",
              "      <td>フシギダネは、ポケットモンスターシリーズに登場する草タイプのポケモンです。体長は約0.7メー...</td>\n",
              "    </tr>\n",
              "    <tr>\n",
              "      <th>1</th>\n",
              "      <td>1</td>\n",
              "      <td>フシギソウ</td>\n",
              "      <td>フシギソウは、日本原産の多年草で、高さは30〜60cm程度になります。茎は直立し、葉は細長く...</td>\n",
              "    </tr>\n",
              "    <tr>\n",
              "      <th>2</th>\n",
              "      <td>2</td>\n",
              "      <td>フシギバナ</td>\n",
              "      <td>フシギバナは、着生植物の一種で、主に熱帯地域に生息しています。茎や葉には、空気中の水分や栄養...</td>\n",
              "    </tr>\n",
              "    <tr>\n",
              "      <th>3</th>\n",
              "      <td>3</td>\n",
              "      <td>ヒトカゲ</td>\n",
              "      <td>ヒトカゲは、火を操ることができるポケモンの一種です。体長は約60cmほどで、尾の先には炎が灯...</td>\n",
              "    </tr>\n",
              "    <tr>\n",
              "      <th>4</th>\n",
              "      <td>4</td>\n",
              "      <td>リザード</td>\n",
              "      <td>「リザード」という言葉は、爬虫類の一種であるトカゲを指します。トカゲは、世界中に約6,000...</td>\n",
              "    </tr>\n",
              "    <tr>\n",
              "      <th>...</th>\n",
              "      <td>...</td>\n",
              "      <td>...</td>\n",
              "      <td>...</td>\n",
              "    </tr>\n",
              "    <tr>\n",
              "      <th>146</th>\n",
              "      <td>146</td>\n",
              "      <td>ミニリュウ</td>\n",
              "      <td>ミニリュウは、ポケットモンスターシリーズに登場する架空の生物です。その生態は以下の通りです。...</td>\n",
              "    </tr>\n",
              "    <tr>\n",
              "      <th>147</th>\n",
              "      <td>147</td>\n",
              "      <td>ハクリュー</td>\n",
              "      <td>「ハクリュー」という生物は、日本に生息する両生類の一種です。体長は最大で約20cm程度で、体...</td>\n",
              "    </tr>\n",
              "    <tr>\n",
              "      <th>148</th>\n",
              "      <td>148</td>\n",
              "      <td>カイリュー</td>\n",
              "      <td>カイリューは、ドラゴンタイプのポケモンで、四肢を持つ爬虫類のような外見をしています。彼らは、...</td>\n",
              "    </tr>\n",
              "    <tr>\n",
              "      <th>149</th>\n",
              "      <td>149</td>\n",
              "      <td>ミュウツー</td>\n",
              "      <td>ミュウツーは、ポケットモンスターシリーズに登場する架空の生物です。外見は、紫色の体毛を持ち、...</td>\n",
              "    </tr>\n",
              "    <tr>\n",
              "      <th>150</th>\n",
              "      <td>150</td>\n",
              "      <td>ミュウ</td>\n",
              "      <td>ミュウは、伝説上のポケモンであり、実在する生物ではありません。そのため、生態については科学的...</td>\n",
              "    </tr>\n",
              "  </tbody>\n",
              "</table>\n",
              "<p>151 rows × 3 columns</p>\n",
              "</div>\n",
              "      <button class=\"colab-df-convert\" onclick=\"convertToInteractive('df-b607ee93-becd-4525-aa1a-e373294a2320')\"\n",
              "              title=\"Convert this dataframe to an interactive table.\"\n",
              "              style=\"display:none;\">\n",
              "        \n",
              "  <svg xmlns=\"http://www.w3.org/2000/svg\" height=\"24px\"viewBox=\"0 0 24 24\"\n",
              "       width=\"24px\">\n",
              "    <path d=\"M0 0h24v24H0V0z\" fill=\"none\"/>\n",
              "    <path d=\"M18.56 5.44l.94 2.06.94-2.06 2.06-.94-2.06-.94-.94-2.06-.94 2.06-2.06.94zm-11 1L8.5 8.5l.94-2.06 2.06-.94-2.06-.94L8.5 2.5l-.94 2.06-2.06.94zm10 10l.94 2.06.94-2.06 2.06-.94-2.06-.94-.94-2.06-.94 2.06-2.06.94z\"/><path d=\"M17.41 7.96l-1.37-1.37c-.4-.4-.92-.59-1.43-.59-.52 0-1.04.2-1.43.59L10.3 9.45l-7.72 7.72c-.78.78-.78 2.05 0 2.83L4 21.41c.39.39.9.59 1.41.59.51 0 1.02-.2 1.41-.59l7.78-7.78 2.81-2.81c.8-.78.8-2.07 0-2.86zM5.41 20L4 18.59l7.72-7.72 1.47 1.35L5.41 20z\"/>\n",
              "  </svg>\n",
              "      </button>\n",
              "      \n",
              "  <style>\n",
              "    .colab-df-container {\n",
              "      display:flex;\n",
              "      flex-wrap:wrap;\n",
              "      gap: 12px;\n",
              "    }\n",
              "\n",
              "    .colab-df-convert {\n",
              "      background-color: #E8F0FE;\n",
              "      border: none;\n",
              "      border-radius: 50%;\n",
              "      cursor: pointer;\n",
              "      display: none;\n",
              "      fill: #1967D2;\n",
              "      height: 32px;\n",
              "      padding: 0 0 0 0;\n",
              "      width: 32px;\n",
              "    }\n",
              "\n",
              "    .colab-df-convert:hover {\n",
              "      background-color: #E2EBFA;\n",
              "      box-shadow: 0px 1px 2px rgba(60, 64, 67, 0.3), 0px 1px 3px 1px rgba(60, 64, 67, 0.15);\n",
              "      fill: #174EA6;\n",
              "    }\n",
              "\n",
              "    [theme=dark] .colab-df-convert {\n",
              "      background-color: #3B4455;\n",
              "      fill: #D2E3FC;\n",
              "    }\n",
              "\n",
              "    [theme=dark] .colab-df-convert:hover {\n",
              "      background-color: #434B5C;\n",
              "      box-shadow: 0px 1px 3px 1px rgba(0, 0, 0, 0.15);\n",
              "      filter: drop-shadow(0px 1px 2px rgba(0, 0, 0, 0.3));\n",
              "      fill: #FFFFFF;\n",
              "    }\n",
              "  </style>\n",
              "\n",
              "      <script>\n",
              "        const buttonEl =\n",
              "          document.querySelector('#df-b607ee93-becd-4525-aa1a-e373294a2320 button.colab-df-convert');\n",
              "        buttonEl.style.display =\n",
              "          google.colab.kernel.accessAllowed ? 'block' : 'none';\n",
              "\n",
              "        async function convertToInteractive(key) {\n",
              "          const element = document.querySelector('#df-b607ee93-becd-4525-aa1a-e373294a2320');\n",
              "          const dataTable =\n",
              "            await google.colab.kernel.invokeFunction('convertToInteractive',\n",
              "                                                     [key], {});\n",
              "          if (!dataTable) return;\n",
              "\n",
              "          const docLinkHtml = 'Like what you see? Visit the ' +\n",
              "            '<a target=\"_blank\" href=https://colab.research.google.com/notebooks/data_table.ipynb>data table notebook</a>'\n",
              "            + ' to learn more about interactive tables.';\n",
              "          element.innerHTML = '';\n",
              "          dataTable['output_type'] = 'display_data';\n",
              "          await google.colab.output.renderOutput(dataTable, element);\n",
              "          const docLink = document.createElement('div');\n",
              "          docLink.innerHTML = docLinkHtml;\n",
              "          element.appendChild(docLink);\n",
              "        }\n",
              "      </script>\n",
              "    </div>\n",
              "  </div>\n",
              "  "
            ]
          },
          "metadata": {},
          "execution_count": 52
        }
      ]
    },
    {
      "cell_type": "code",
      "source": [
        "df = pd.read_csv(\"gdrive/MyDrive/chatgpt-pokemon-name-explanations.csv\")\n",
        "\n",
        "identified_pokemons = []\n",
        "not_identified_pokemons = []\n",
        "for i, row in df.iterrows():\n",
        "    if re.search(\"ポケモン|ポケットモンスター\", row[\"response\"]):\n",
        "        identified_pokemons.append(row[\"name\"])\n",
        "    else:\n",
        "        not_identified_pokemons.append(row[\"name\"])"
      ],
      "metadata": {
        "id": "hHDY6sZYV4f0"
      },
      "execution_count": 5,
      "outputs": []
    },
    {
      "cell_type": "code",
      "source": [
        "for n in not_identified_pokemons:\n",
        "    print(n)"
      ],
      "metadata": {
        "colab": {
          "base_uri": "https://localhost:8080/"
        },
        "id": "m4NzexC32E91",
        "outputId": "10a89923-83d3-4c7c-e33a-aee23427ce74"
      },
      "execution_count": 15,
      "outputs": [
        {
          "output_type": "stream",
          "name": "stdout",
          "text": [
            "フシギソウ\n",
            "フシギバナ\n",
            "リザード\n",
            "ゼニガメ\n",
            "カメール\n",
            "トランセル\n",
            "バタフリー\n",
            "ビードル\n",
            "コクーン\n",
            "スピアー\n",
            "ポッポ\n",
            "ピジョン\n",
            "コラッタ\n",
            "ラッタ\n",
            "オニスズメ\n",
            "オニドリル\n",
            "ライチュウ\n",
            "サンド\n",
            "サンドパン\n",
            "ピクシー\n",
            "キュウコン\n",
            "プリン\n",
            "ズバット\n",
            "ナゾノクサ\n",
            "クサイハナ\n",
            "ラフレシア\n",
            "パラス\n",
            "コンパン\n",
            "モルフォン\n",
            "ペルシアン\n",
            "コダック\n",
            "オコリザル\n",
            "ニョロモ\n",
            "ニョロゾ\n",
            "ニョロボン\n",
            "ユンゲラー\n",
            "フーディン\n",
            "ゴーリキー\n",
            "マダツボミ\n",
            "ウツドン\n",
            "ウツボット\n",
            "メノクラゲ\n",
            "ドククラゲ\n",
            "イシツブテ\n",
            "ギャロップ\n",
            "ヤドン\n",
            "ヤドラン\n",
            "コイル\n",
            "カモネギ\n",
            "ドードー\n",
            "パウワウ\n",
            "ジュゴン\n",
            "ベトベター\n",
            "ベトベトン\n",
            "シェルダー\n",
            "パルシェン\n",
            "ゴース\n",
            "ゴースト\n",
            "スリープ\n",
            "スリーパー\n",
            "クラブ\n",
            "ビリリダマ\n",
            "マルマイン\n",
            "タマタマ\n",
            "ナッシー\n",
            "カラカラ\n",
            "ガラガラ\n",
            "サワムラー\n",
            "エビワラー\n",
            "ベロリンガ\n",
            "ドガース\n",
            "マタドガス\n",
            "モンジャラ\n",
            "ガルーラ\n",
            "タッツー\n",
            "シードラ\n",
            "トサキント\n",
            "アズマオウ\n",
            "ヒトデマン\n",
            "スターミー\n",
            "ストライク\n",
            "ルージュラ\n",
            "ブーバー\n",
            "カイロス\n",
            "ケンタロス\n",
            "コイキング\n",
            "ラプラス\n",
            "サンダース\n",
            "ブースター\n",
            "オムナイト\n",
            "オムスター\n",
            "カブト\n",
            "カブトプス\n",
            "プテラ\n",
            "フリーザー\n",
            "サンダー\n",
            "ファイヤー\n",
            "ハクリュー\n"
          ]
        }
      ]
    },
    {
      "cell_type": "code",
      "source": [
        "identified_pokemons, len(identified_pokemons)"
      ],
      "metadata": {
        "colab": {
          "base_uri": "https://localhost:8080/"
        },
        "id": "1fw_ynfHWo6u",
        "outputId": "9e99f50d-489d-4c63-e793-41ebf09857e7"
      },
      "execution_count": 6,
      "outputs": [
        {
          "output_type": "execute_result",
          "data": {
            "text/plain": [
              "(['フシギダネ',\n",
              "  'ヒトカゲ',\n",
              "  'リザードン',\n",
              "  'カメックス',\n",
              "  'キャタピー',\n",
              "  'ピジョット',\n",
              "  'アーボ',\n",
              "  'アーボック',\n",
              "  'ピカチュウ',\n",
              "  'ニドラン♀',\n",
              "  'ニドリーナ',\n",
              "  'ニドクイン',\n",
              "  'ニドラン♂',\n",
              "  'ニドリーノ',\n",
              "  'ニドキング',\n",
              "  'ピッピ',\n",
              "  'ロコン',\n",
              "  'プクリン',\n",
              "  'ゴルバット',\n",
              "  'パラセクト',\n",
              "  'ディグダ',\n",
              "  'ダグトリオ',\n",
              "  'ニャース',\n",
              "  'ゴルダック',\n",
              "  'マンキー',\n",
              "  'ガーディ',\n",
              "  'ウインディ',\n",
              "  'ケーシィ',\n",
              "  'ワンリキー',\n",
              "  'カイリキー',\n",
              "  'ゴローン',\n",
              "  'ゴローニャ',\n",
              "  'ポニータ',\n",
              "  'レアコイル',\n",
              "  'ドードリオ',\n",
              "  'ゲンガー',\n",
              "  'イワーク',\n",
              "  'キングラー',\n",
              "  'サイホーン',\n",
              "  'サイドン',\n",
              "  'ラッキー',\n",
              "  'バリヤード',\n",
              "  'エレブー',\n",
              "  'ギャラドス',\n",
              "  'メタモン',\n",
              "  'イーブイ',\n",
              "  'シャワーズ',\n",
              "  'ポリゴン',\n",
              "  'カビゴン',\n",
              "  'ミニリュウ',\n",
              "  'カイリュー',\n",
              "  'ミュウツー',\n",
              "  'ミュウ'],\n",
              " 53)"
            ]
          },
          "metadata": {},
          "execution_count": 6
        }
      ]
    },
    {
      "cell_type": "code",
      "source": [
        "not_identified_pokemons, len(not_identified_pokemons)"
      ],
      "metadata": {
        "colab": {
          "base_uri": "https://localhost:8080/"
        },
        "id": "wNhutmgZXodJ",
        "outputId": "fd2000ad-814e-471b-e876-af08343c9c6a"
      },
      "execution_count": 7,
      "outputs": [
        {
          "output_type": "execute_result",
          "data": {
            "text/plain": [
              "(['フシギソウ',\n",
              "  'フシギバナ',\n",
              "  'リザード',\n",
              "  'ゼニガメ',\n",
              "  'カメール',\n",
              "  'トランセル',\n",
              "  'バタフリー',\n",
              "  'ビードル',\n",
              "  'コクーン',\n",
              "  'スピアー',\n",
              "  'ポッポ',\n",
              "  'ピジョン',\n",
              "  'コラッタ',\n",
              "  'ラッタ',\n",
              "  'オニスズメ',\n",
              "  'オニドリル',\n",
              "  'ライチュウ',\n",
              "  'サンド',\n",
              "  'サンドパン',\n",
              "  'ピクシー',\n",
              "  'キュウコン',\n",
              "  'プリン',\n",
              "  'ズバット',\n",
              "  'ナゾノクサ',\n",
              "  'クサイハナ',\n",
              "  'ラフレシア',\n",
              "  'パラス',\n",
              "  'コンパン',\n",
              "  'モルフォン',\n",
              "  'ペルシアン',\n",
              "  'コダック',\n",
              "  'オコリザル',\n",
              "  'ニョロモ',\n",
              "  'ニョロゾ',\n",
              "  'ニョロボン',\n",
              "  'ユンゲラー',\n",
              "  'フーディン',\n",
              "  'ゴーリキー',\n",
              "  'マダツボミ',\n",
              "  'ウツドン',\n",
              "  'ウツボット',\n",
              "  'メノクラゲ',\n",
              "  'ドククラゲ',\n",
              "  'イシツブテ',\n",
              "  'ギャロップ',\n",
              "  'ヤドン',\n",
              "  'ヤドラン',\n",
              "  'コイル',\n",
              "  'カモネギ',\n",
              "  'ドードー',\n",
              "  'パウワウ',\n",
              "  'ジュゴン',\n",
              "  'ベトベター',\n",
              "  'ベトベトン',\n",
              "  'シェルダー',\n",
              "  'パルシェン',\n",
              "  'ゴース',\n",
              "  'ゴースト',\n",
              "  'スリープ',\n",
              "  'スリーパー',\n",
              "  'クラブ',\n",
              "  'ビリリダマ',\n",
              "  'マルマイン',\n",
              "  'タマタマ',\n",
              "  'ナッシー',\n",
              "  'カラカラ',\n",
              "  'ガラガラ',\n",
              "  'サワムラー',\n",
              "  'エビワラー',\n",
              "  'ベロリンガ',\n",
              "  'ドガース',\n",
              "  'マタドガス',\n",
              "  'モンジャラ',\n",
              "  'ガルーラ',\n",
              "  'タッツー',\n",
              "  'シードラ',\n",
              "  'トサキント',\n",
              "  'アズマオウ',\n",
              "  'ヒトデマン',\n",
              "  'スターミー',\n",
              "  'ストライク',\n",
              "  'ルージュラ',\n",
              "  'ブーバー',\n",
              "  'カイロス',\n",
              "  'ケンタロス',\n",
              "  'コイキング',\n",
              "  'ラプラス',\n",
              "  'サンダース',\n",
              "  'ブースター',\n",
              "  'オムナイト',\n",
              "  'オムスター',\n",
              "  'カブト',\n",
              "  'カブトプス',\n",
              "  'プテラ',\n",
              "  'フリーザー',\n",
              "  'サンダー',\n",
              "  'ファイヤー',\n",
              "  'ハクリュー'],\n",
              " 98)"
            ]
          },
          "metadata": {},
          "execution_count": 7
        }
      ]
    },
    {
      "cell_type": "code",
      "source": [
        "df[\"is_identified\"] = [name in identified_pokemons for name in df[\"name\"]]\n",
        "df.to_csv(\"gdrive/MyDrive/chatgpt-pokemon-name-explanations.csv\", index=False)"
      ],
      "metadata": {
        "id": "Sqy-pHtjXo6U"
      },
      "execution_count": 12,
      "outputs": []
    },
    {
      "cell_type": "code",
      "source": [
        "open(\"pokemon_types.tsv\", \"w\").write(\"\"\"フシギダネ\tくさ\tどく\n",
        "フシギソウ\tくさ\tどく\n",
        "フシギバナ\tくさ\tどく\n",
        "ヒトカゲ\tほのお\t\n",
        "リザード\tほのお\t\n",
        "リザードン\tほのお\tひこう\n",
        "ゼニガメ\tみず\t\n",
        "カメール\tみず\t\n",
        "カメックス\tみず\t\n",
        "キャタピー\tむし\t\n",
        "トランセル\tむし\t\n",
        "バタフリー\tむし\tひこう\n",
        "ビードル\tむし\tどく\n",
        "コクーン\tむし\tどく\n",
        "スピアー\tむし\tどく\n",
        "ポッポ\tノーマル\tひこう\n",
        "ピジョン\tノーマル\tひこう\n",
        "ピジョット\tノーマル\tひこう\n",
        "コラッタ\tノーマル\t\n",
        "ラッタ\tノーマル\t\n",
        "オニスズメ\tノーマル\tひこう\n",
        "オニドリル\tノーマル\tひこう\n",
        "アーボ\tどく\t\n",
        "アーボック\tどく\t\n",
        "ピカチュウ\tでんき\t\n",
        "ライチュウ\tでんき\t\n",
        "サンド\tじめん\t\n",
        "サンドパン\tじめん\t\n",
        "ニドラン♀\tどく\t\n",
        "ニドリーナ\tどく\t\n",
        "ニドクイン\tどく\tじめん\n",
        "ニドラン♂\tどく\t\n",
        "ニドリーノ\tどく\t\n",
        "ニドキング\tどく\tじめん\n",
        "ピッピ\tノーマル\t\n",
        "ピクシー\tノーマル\t\n",
        "ロコン\tほのお\t\n",
        "キュウコン\tほのお\t\n",
        "プリン\tノーマル\t\n",
        "プクリン\tノーマル\t\n",
        "ズバット\tどく\tひこう\n",
        "ゴルバット\tどく\tひこう\n",
        "ナゾノクサ\tくさ\tどく\n",
        "クサイハナ\tくさ\tどく\n",
        "ラフレシア\tくさ\tどく\n",
        "パラス\tむし\tくさ\n",
        "パラセクト\tむし\tくさ\n",
        "コンパン\tむし\tどく\n",
        "モルフォン\tむし\tどく\n",
        "ディグダ\tじめん\t\n",
        "ダグトリオ\tじめん\t\n",
        "ニャース\tノーマル\t\n",
        "ペルシアン\tノーマル\t\n",
        "コダック\tみず\t\n",
        "ゴルダック\tみず\t\n",
        "マンキー\tかくとう\t\n",
        "オコリザル\tかくとう\t\n",
        "ガーディ\tほのお\t\n",
        "ウインディ\tほのお\t\n",
        "ニョロモ\tみず\t\n",
        "ニョロゾ\tみず\t\n",
        "ニョロボン\tみず\tかくとう\n",
        "ケーシィ\tエスパー\t\n",
        "ユンゲラー\tエスパー\t\n",
        "フーディン\tエスパー\t\n",
        "ワンリキー\tかくとう\t\n",
        "ゴーリキー\tかくとう\t\n",
        "カイリキー\tかくとう\t\n",
        "マダツボミ\tくさ\tどく\n",
        "ウツドン\tくさ\tどく\n",
        "ウツボット\tくさ\tどく\n",
        "メノクラゲ\tみず\tどく\n",
        "ドククラゲ\tみず\tどく\n",
        "イシツブテ\tいわ\tじめん\n",
        "ゴローン\tいわ\tじめん\n",
        "ゴローニャ\tいわ\tじめん\n",
        "ポニータ\tほのお\t\n",
        "ギャロップ\tほのお\t\n",
        "ヤドン\tみず\tエスパー\n",
        "ヤドラン\tみず\tエスパー\n",
        "コイル\tでんき\t\n",
        "レアコイル\tでんき\t\n",
        "カモネギ\tノーマル\tひこう\n",
        "ドードー\tノーマル\tひこう\n",
        "ドードリオ\tノーマル\tひこう\n",
        "パウワウ\tみず\t\n",
        "ジュゴン\tみず\tこおり\n",
        "ベトベター\tどく\t\n",
        "ベトベトン\tどく\t\n",
        "シェルダー\tみず\t\n",
        "パルシェン\tみず\tこおり\n",
        "ゴース\tゴースト\tどく\n",
        "ゴースト\tゴースト\tどく\n",
        "ゲンガー\tゴースト\tどく\n",
        "イワーク\tいわ\tじめん\n",
        "スリープ\tエスパー\t\n",
        "スリーパー\tエスパー\t\n",
        "クラブ\tみず\t\n",
        "キングラー\tみず\t\n",
        "ビリリダマ\tでんき\t\n",
        "マルマイン\tでんき\t\n",
        "タマタマ\tくさ\t\n",
        "ナッシー\tくさ\tエスパー\n",
        "カラカラ\tじめん\t\n",
        "ガラガラ\tじめん\t\n",
        "サワムラー\tかくとう\t\n",
        "エビワラー\tかくとう\t\n",
        "ベロリンガ\tノーマル\t\n",
        "ドガース\tどく\t\n",
        "マタドガス\tどく\t\n",
        "サイホーン\tいわ\tじめん\n",
        "サイドン\tいわ\tじめん\n",
        "ラッキー\tノーマル\t\n",
        "モンジャラ\tくさ\t\n",
        "ガルーラ\tノーマル\t\n",
        "タッツー\tみず\t\n",
        "シードラ\tみず\t\n",
        "トサキント\tみず\t\n",
        "アズマオウ\tみず\t\n",
        "ヒトデマン\tみず\t\n",
        "スターミー\tみず\tエスパー\n",
        "バリヤード\tエスパー\t\n",
        "ストライク\tむし\tひこう\n",
        "ルージュラ\tこおり\t\n",
        "エレブー\tでんき\t\n",
        "ブーバー\tほのお\t\n",
        "カイロス\tむし\t\n",
        "ケンタロス\tノーマル\t\n",
        "コイキング\tみず\t\n",
        "ギャラドス\tみず\tひこう\n",
        "ラプラス\tみず\tこおり\n",
        "メタモン\tノーマル\t\n",
        "イーブイ\tノーマル\t\n",
        "シャワーズ\tみず\t\n",
        "サンダース\tでんき\t\n",
        "ブースター\tほのお\t\n",
        "ポリゴン\tノーマル\t\n",
        "オムナイト\tみず\tいわ\n",
        "オムスター\tみず\tいわ\n",
        "カブト\tみず\tいわ\n",
        "カブトプス\tみず\tいわ\n",
        "プテラ\tいわ\tひこう\n",
        "カビゴン\tノーマル\t\n",
        "フリーザー\tこおり\tひこう\n",
        "サンダー\tでんき\tひこう\n",
        "ファイヤー\tほのお\tひこう\n",
        "ミニリュウ\tドラゴン\t\n",
        "ハクリュー\tドラゴン\t\n",
        "カイリュー\tドラゴン\tひこう\n",
        "ミュウツー\tエスパー\t\n",
        "ミュウ\tエスパー\t\"\"\")"
      ],
      "metadata": {
        "colab": {
          "base_uri": "https://localhost:8080/"
        },
        "id": "-7kSQYKUC1al",
        "outputId": "be5770d4-818b-4827-8992-ccc8aa5879ae"
      },
      "execution_count": 17,
      "outputs": [
        {
          "output_type": "execute_result",
          "data": {
            "text/plain": [
              "1706"
            ]
          },
          "metadata": {},
          "execution_count": 17
        }
      ]
    },
    {
      "cell_type": "code",
      "source": [
        "types_by_pokemon_name = {}\n",
        "df_types = pd.read_csv(\"pokemon_types.tsv\", delimiter=\"\\t\", header=None)\n",
        "for i, row in df_types.iterrows():\n",
        "    if pd.isna(row[2]):\n",
        "        types_by_pokemon_name[row[0]] = [row[1]]\n",
        "    else:\n",
        "        types_by_pokemon_name[row[0]] = [row[1], row[2]]"
      ],
      "metadata": {
        "id": "O8cTBisoDVCL"
      },
      "execution_count": 31,
      "outputs": []
    },
    {
      "cell_type": "code",
      "source": [
        "identified_types = []\n",
        "for name in identified_pokemons:\n",
        "    identified_types += types_by_pokemon_name[name]"
      ],
      "metadata": {
        "id": "E2gZFEx5EFFw"
      },
      "execution_count": 57,
      "outputs": []
    },
    {
      "cell_type": "code",
      "source": [
        "not_identified_types = []\n",
        "for name in not_identified_pokemons:\n",
        "    not_identified_types += types_by_pokemon_name[name]"
      ],
      "metadata": {
        "id": "xjaGlxsIGO10"
      },
      "execution_count": 58,
      "outputs": []
    },
    {
      "cell_type": "code",
      "source": [
        "counter = dict(sorted(collections.Counter(identified_types).items(), key=lambda x:x[1], reverse=True))\n",
        "x = counter.values()\n",
        "labels = counter.keys()\n",
        "plt.pie(x, labels=labels, counterclock=False, startangle=90)\n",
        "plt.title(\"ポケモンと認識されたタイプの割合\")\n",
        "plt.show()"
      ],
      "metadata": {
        "colab": {
          "base_uri": "https://localhost:8080/",
          "height": 428
        },
        "id": "r_sRavtiEy1M",
        "outputId": "1929534a-bbb4-454a-d377-231c510b34e9"
      },
      "execution_count": 78,
      "outputs": [
        {
          "output_type": "display_data",
          "data": {
            "text/plain": [
              "<Figure size 640x480 with 1 Axes>"
            ],
            "image/png": "[encoded data removed]"
          },
          "metadata": {}
        }
      ]
    },
    {
      "cell_type": "code",
      "source": [
        "identified_labels = list(labels)"
      ],
      "metadata": {
        "id": "vOCOiwwKIckV"
      },
      "execution_count": 81,
      "outputs": []
    },
    {
      "cell_type": "code",
      "source": [
        "counter = dict(sorted(collections.Counter(not_identified_types).items(), key=lambda x:x[1], reverse=True))\n",
        "x = counter.values()\n",
        "labels = counter.keys()\n",
        "plt.pie(x, labels=labels, counterclock=False, startangle=90)\n",
        "plt.title(\"ポケモンと認識されなかったタイプの割合\")\n",
        "plt.show()"
      ],
      "metadata": {
        "colab": {
          "base_uri": "https://localhost:8080/",
          "height": 428
        },
        "id": "np46ulpPFAyH",
        "outputId": "e274ece9-4609-406e-a2cf-2a82894c58e3"
      },
      "execution_count": 59,
      "outputs": [
        {
          "output_type": "display_data",
          "data": {
            "text/plain": [
              "<Figure size 640x480 with 1 Axes>"
            ],
            "image/png": "[encoded data removed]"
          },
          "metadata": {}
        }
      ]
    },
    {
      "cell_type": "code",
      "source": [
        "indentified_cnts_by_type = {}\n",
        "not_indentified_cnts_by_type = {}\n",
        "for name, types in types_by_pokemon_name.items():\n",
        "    is_identified = name in identified_pokemons\n",
        "    for type_ in types:\n",
        "        if is_identified:\n",
        "            indentified_cnts_by_type.setdefault(type_, 0)\n",
        "            indentified_cnts_by_type[type_] += 1\n",
        "        else:\n",
        "            not_indentified_cnts_by_type.setdefault(type_, 0)\n",
        "            not_indentified_cnts_by_type[type_] += 1            "
      ],
      "metadata": {
        "id": "vIJ3rB-iFdys"
      },
      "execution_count": 62,
      "outputs": []
    },
    {
      "cell_type": "code",
      "source": [
        "types = list(set(identified_labels) | set(not_indentified_cnts_by_type.keys()))"
      ],
      "metadata": {
        "id": "G6mpTvfJHzLT"
      },
      "execution_count": 105,
      "outputs": []
    },
    {
      "cell_type": "code",
      "source": [
        "types = identified_labels + list(set(not_indentified_cnts_by_type.keys()) - set(identified_labels))"
      ],
      "metadata": {
        "id": "6SInU_Q_KrT3"
      },
      "execution_count": 109,
      "outputs": []
    },
    {
      "cell_type": "code",
      "source": [
        "h1 = [indentified_cnts_by_type.get(type_, 0) for type_ in types]\n",
        "h2 = [not_indentified_cnts_by_type.get(type_, 0) for type_ in types]\n",
        "p1 = plt.bar(list(range(len(types))), h1)\n",
        "p2 = plt.bar(list(range(len(types))), h2, bottom=h1)\n",
        "plt.legend((p1[0], p2[0]), (\"認識された\", \"認識されなかった\"))\n",
        "plt.xticks(list(range(len(types))), types, rotation=90)\n",
        "plt.show()"
      ],
      "metadata": {
        "colab": {
          "base_uri": "https://localhost:8080/",
          "height": 471
        },
        "id": "VQ4uANdxHlTY",
        "outputId": "5b2c8b4b-f6f3-4cb5-c844-642333d963b1"
      },
      "execution_count": 110,
      "outputs": [
        {
          "output_type": "display_data",
          "data": {
            "text/plain": [
              "<Figure size 640x480 with 1 Axes>"
            ],
            "image/png": "[encoded data removed]"
          },
          "metadata": {}
        }
      ]
    },
    {
      "cell_type": "code",
      "source": [],
      "metadata": {
        "id": "gUHSJf4eHY9t"
      },
      "execution_count": null,
      "outputs": []
    }
  ]
}